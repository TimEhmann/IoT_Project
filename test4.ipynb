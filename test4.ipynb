{
 "cells": [
  {
   "cell_type": "code",
   "execution_count": 1,
   "metadata": {},
   "outputs": [],
   "source": [
    "import pandas as pd"
   ]
  },
  {
   "cell_type": "code",
   "execution_count": 3,
   "metadata": {},
   "outputs": [],
   "source": [
    "df = pd.read_csv('model_performances.csv')"
   ]
  },
  {
   "cell_type": "code",
   "execution_count": 31,
   "metadata": {},
   "outputs": [
    {
     "data": {
      "text/html": [
       "<div>\n",
       "<style scoped>\n",
       "    .dataframe tbody tr th:only-of-type {\n",
       "        vertical-align: middle;\n",
       "    }\n",
       "\n",
       "    .dataframe tbody tr th {\n",
       "        vertical-align: top;\n",
       "    }\n",
       "\n",
       "    .dataframe thead th {\n",
       "        text-align: right;\n",
       "    }\n",
       "</style>\n",
       "<table border=\"1\" class=\"dataframe\">\n",
       "  <thead>\n",
       "    <tr style=\"text-align: right;\">\n",
       "      <th></th>\n",
       "      <th>model_name</th>\n",
       "      <th>aggregation_level</th>\n",
       "      <th>y_feature</th>\n",
       "      <th>n_features</th>\n",
       "      <th>rmse</th>\n",
       "      <th>mae</th>\n",
       "      <th>me</th>\n",
       "      <th>mape</th>\n",
       "      <th>d_model</th>\n",
       "      <th>nhead</th>\n",
       "      <th>...</th>\n",
       "      <th>dropout_pe</th>\n",
       "      <th>dropout_encoder</th>\n",
       "      <th>batch_size</th>\n",
       "      <th>learning_rate</th>\n",
       "      <th>epochs</th>\n",
       "      <th>train_loss</th>\n",
       "      <th>val_loss</th>\n",
       "      <th>note</th>\n",
       "      <th>hidden_dim</th>\n",
       "      <th>dropout</th>\n",
       "    </tr>\n",
       "  </thead>\n",
       "  <tbody>\n",
       "    <tr>\n",
       "      <th>114</th>\n",
       "      <td>multivariate_lstm</td>\n",
       "      <td>hour</td>\n",
       "      <td>CO2</td>\n",
       "      <td>25</td>\n",
       "      <td>43.448835</td>\n",
       "      <td>16.401283</td>\n",
       "      <td>1.436164</td>\n",
       "      <td>2.860548</td>\n",
       "      <td>NaN</td>\n",
       "      <td>NaN</td>\n",
       "      <td>...</td>\n",
       "      <td>NaN</td>\n",
       "      <td>NaN</td>\n",
       "      <td>4096.0</td>\n",
       "      <td>0.00031</td>\n",
       "      <td>25.0</td>\n",
       "      <td>0.125961</td>\n",
       "      <td>0.120994</td>\n",
       "      <td>LSTM model with device_id embedding</td>\n",
       "      <td>256.0</td>\n",
       "      <td>0.3</td>\n",
       "    </tr>\n",
       "    <tr>\n",
       "      <th>115</th>\n",
       "      <td>multivariate_lstm</td>\n",
       "      <td>hour</td>\n",
       "      <td>VOC</td>\n",
       "      <td>25</td>\n",
       "      <td>87.869467</td>\n",
       "      <td>41.334648</td>\n",
       "      <td>8.268288</td>\n",
       "      <td>4.782109</td>\n",
       "      <td>NaN</td>\n",
       "      <td>NaN</td>\n",
       "      <td>...</td>\n",
       "      <td>NaN</td>\n",
       "      <td>NaN</td>\n",
       "      <td>4096.0</td>\n",
       "      <td>0.00031</td>\n",
       "      <td>25.0</td>\n",
       "      <td>0.092343</td>\n",
       "      <td>0.091600</td>\n",
       "      <td>LSTM model with device_id embedding</td>\n",
       "      <td>256.0</td>\n",
       "      <td>0.3</td>\n",
       "    </tr>\n",
       "    <tr>\n",
       "      <th>116</th>\n",
       "      <td>multivariate_lstm</td>\n",
       "      <td>hour</td>\n",
       "      <td>hum</td>\n",
       "      <td>25</td>\n",
       "      <td>1.110122</td>\n",
       "      <td>0.705668</td>\n",
       "      <td>-0.067444</td>\n",
       "      <td>1.956055</td>\n",
       "      <td>NaN</td>\n",
       "      <td>NaN</td>\n",
       "      <td>...</td>\n",
       "      <td>NaN</td>\n",
       "      <td>NaN</td>\n",
       "      <td>4096.0</td>\n",
       "      <td>0.00031</td>\n",
       "      <td>25.0</td>\n",
       "      <td>0.020478</td>\n",
       "      <td>0.013378</td>\n",
       "      <td>LSTM model with device_id embedding</td>\n",
       "      <td>256.0</td>\n",
       "      <td>0.3</td>\n",
       "    </tr>\n",
       "    <tr>\n",
       "      <th>117</th>\n",
       "      <td>multivariate_lstm</td>\n",
       "      <td>hour</td>\n",
       "      <td>tmp</td>\n",
       "      <td>25</td>\n",
       "      <td>0.469497</td>\n",
       "      <td>0.280218</td>\n",
       "      <td>0.034431</td>\n",
       "      <td>1.140944</td>\n",
       "      <td>NaN</td>\n",
       "      <td>NaN</td>\n",
       "      <td>...</td>\n",
       "      <td>NaN</td>\n",
       "      <td>NaN</td>\n",
       "      <td>4096.0</td>\n",
       "      <td>0.00031</td>\n",
       "      <td>25.0</td>\n",
       "      <td>0.022299</td>\n",
       "      <td>0.017122</td>\n",
       "      <td>LSTM model with device_id embedding</td>\n",
       "      <td>256.0</td>\n",
       "      <td>0.3</td>\n",
       "    </tr>\n",
       "    <tr>\n",
       "      <th>118</th>\n",
       "      <td>multivariate_lstm</td>\n",
       "      <td>hour</td>\n",
       "      <td>vis</td>\n",
       "      <td>25</td>\n",
       "      <td>769.899279</td>\n",
       "      <td>164.819476</td>\n",
       "      <td>-31.984039</td>\n",
       "      <td>571.363304</td>\n",
       "      <td>NaN</td>\n",
       "      <td>NaN</td>\n",
       "      <td>...</td>\n",
       "      <td>NaN</td>\n",
       "      <td>NaN</td>\n",
       "      <td>4096.0</td>\n",
       "      <td>0.00031</td>\n",
       "      <td>25.0</td>\n",
       "      <td>0.442025</td>\n",
       "      <td>0.521594</td>\n",
       "      <td>LSTM model with device_id embedding</td>\n",
       "      <td>256.0</td>\n",
       "      <td>0.3</td>\n",
       "    </tr>\n",
       "  </tbody>\n",
       "</table>\n",
       "<p>5 rows × 21 columns</p>\n",
       "</div>"
      ],
      "text/plain": [
       "            model_name aggregation_level y_feature  n_features        rmse  \\\n",
       "114  multivariate_lstm              hour       CO2          25   43.448835   \n",
       "115  multivariate_lstm              hour       VOC          25   87.869467   \n",
       "116  multivariate_lstm              hour       hum          25    1.110122   \n",
       "117  multivariate_lstm              hour       tmp          25    0.469497   \n",
       "118  multivariate_lstm              hour       vis          25  769.899279   \n",
       "\n",
       "            mae         me        mape  d_model  nhead  ...  dropout_pe  \\\n",
       "114   16.401283   1.436164    2.860548      NaN    NaN  ...         NaN   \n",
       "115   41.334648   8.268288    4.782109      NaN    NaN  ...         NaN   \n",
       "116    0.705668  -0.067444    1.956055      NaN    NaN  ...         NaN   \n",
       "117    0.280218   0.034431    1.140944      NaN    NaN  ...         NaN   \n",
       "118  164.819476 -31.984039  571.363304      NaN    NaN  ...         NaN   \n",
       "\n",
       "     dropout_encoder  batch_size  learning_rate  epochs  train_loss  val_loss  \\\n",
       "114              NaN      4096.0        0.00031    25.0    0.125961  0.120994   \n",
       "115              NaN      4096.0        0.00031    25.0    0.092343  0.091600   \n",
       "116              NaN      4096.0        0.00031    25.0    0.020478  0.013378   \n",
       "117              NaN      4096.0        0.00031    25.0    0.022299  0.017122   \n",
       "118              NaN      4096.0        0.00031    25.0    0.442025  0.521594   \n",
       "\n",
       "                                    note hidden_dim  dropout  \n",
       "114  LSTM model with device_id embedding      256.0      0.3  \n",
       "115  LSTM model with device_id embedding      256.0      0.3  \n",
       "116  LSTM model with device_id embedding      256.0      0.3  \n",
       "117  LSTM model with device_id embedding      256.0      0.3  \n",
       "118  LSTM model with device_id embedding      256.0      0.3  \n",
       "\n",
       "[5 rows x 21 columns]"
      ]
     },
     "execution_count": 31,
     "metadata": {},
     "output_type": "execute_result"
    }
   ],
   "source": [
    "df.tail()"
   ]
  },
  {
   "cell_type": "code",
   "execution_count": 21,
   "metadata": {},
   "outputs": [
    {
     "data": {
      "text/plain": [
       "array(['CO2', 'hum', 'tmp', 'vis', 'VOC'], dtype=object)"
      ]
     },
     "execution_count": 21,
     "metadata": {},
     "output_type": "execute_result"
    }
   ],
   "source": [
    "df.y_feature.unique()"
   ]
  },
  {
   "cell_type": "code",
   "execution_count": 13,
   "metadata": {},
   "outputs": [],
   "source": [
    "fdf = df[df.mape < 1] "
   ]
  },
  {
   "cell_type": "code",
   "execution_count": 24,
   "metadata": {},
   "outputs": [],
   "source": [
    "t_df = df[df.model_name == 'multivariate_transformer']"
   ]
  },
  {
   "cell_type": "code",
   "execution_count": 29,
   "metadata": {},
   "outputs": [
    {
     "data": {
      "text/plain": [
       "4         160.293721\n",
       "73        578.622611\n",
       "31       8485.993520\n",
       "20      20042.302653\n",
       "36      55673.513677\n",
       "98      63318.995057\n",
       "63      92157.238971\n",
       "26      96666.808372\n",
       "10     154077.105291\n",
       "68     179546.902323\n",
       "103    209018.081446\n",
       "15     384137.397207\n",
       "93     537041.009594\n",
       "Name: mape, dtype: float64"
      ]
     },
     "execution_count": 29,
     "metadata": {},
     "output_type": "execute_result"
    }
   ],
   "source": [
    "t_df[t_df.y_feature == 'vis'].mape.sort_values()"
   ]
  },
  {
   "cell_type": "code",
   "execution_count": 32,
   "metadata": {},
   "outputs": [],
   "source": [
    "lstm_df = df[df.model_name == 'multivariate_lstm']\t"
   ]
  },
  {
   "cell_type": "code",
   "execution_count": 37,
   "metadata": {},
   "outputs": [
    {
     "data": {
      "text/plain": [
       "74     1.360576\n",
       "104    1.381297\n",
       "53     1.489353\n",
       "52     1.503273\n",
       "79     1.852579\n",
       "109    2.027255\n",
       "84     2.840270\n",
       "114    2.860548\n",
       "Name: mape, dtype: float64"
      ]
     },
     "execution_count": 37,
     "metadata": {},
     "output_type": "execute_result"
    }
   ],
   "source": [
    "lstm_df[lstm_df.y_feature == 'CO2'].mape.sort_values()"
   ]
  },
  {
   "cell_type": "code",
   "execution_count": null,
   "metadata": {},
   "outputs": [],
   "source": []
  }
 ],
 "metadata": {
  "kernelspec": {
   "display_name": "iot5",
   "language": "python",
   "name": "python3"
  },
  "language_info": {
   "codemirror_mode": {
    "name": "ipython",
    "version": 3
   },
   "file_extension": ".py",
   "mimetype": "text/x-python",
   "name": "python",
   "nbconvert_exporter": "python",
   "pygments_lexer": "ipython3",
   "version": "3.11.9"
  }
 },
 "nbformat": 4,
 "nbformat_minor": 2
}
